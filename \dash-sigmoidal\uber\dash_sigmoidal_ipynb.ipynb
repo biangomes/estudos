{
  "nbformat": 4,
  "nbformat_minor": 0,
  "metadata": {
    "colab": {
      "name": "dash-sigmoidal-ipynb.ipynb",
      "provenance": [],
      "collapsed_sections": [],
      "authorship_tag": "ABX9TyP8mTfDqeCoAmnwovTuElyU",
      "include_colab_link": true
    },
    "kernelspec": {
      "name": "python3",
      "display_name": "Python 3"
    },
    "language_info": {
      "name": "python"
    }
  },
  "cells": [
    {
      "cell_type": "markdown",
      "metadata": {
        "id": "view-in-github",
        "colab_type": "text"
      },
      "source": [
        "<a href=\"https://colab.research.google.com/github/biangomes/estudos/blob/master/%5Cdash-sigmoidal%5Cuber%5Cdash_sigmoidal_ipynb.ipynb\" target=\"_parent\"><img src=\"https://colab.research.google.com/assets/colab-badge.svg\" alt=\"Open In Colab\"/></a>"
      ]
    },
    {
      "cell_type": "code",
      "metadata": {
        "id": "A0dqImVELsQ3"
      },
      "source": [
        "# Import libs\n",
        "import pandas as pd"
      ],
      "execution_count": 1,
      "outputs": []
    },
    {
      "cell_type": "code",
      "metadata": {
        "id": "95ApGLzkMCyM"
      },
      "source": [
        "df = pd.read_csv('uber-raw-data-sep14.csv', nrows=1000)"
      ],
      "execution_count": 2,
      "outputs": []
    },
    {
      "cell_type": "code",
      "metadata": {
        "colab": {
          "base_uri": "https://localhost:8080/",
          "height": 204
        },
        "id": "xuJCbZh8NKwG",
        "outputId": "1c4df1af-77b2-44ec-e52e-ab6589dd5a97"
      },
      "source": [
        "df.head()"
      ],
      "execution_count": 3,
      "outputs": [
        {
          "output_type": "execute_result",
          "data": {
            "text/html": [
              "<div>\n",
              "<style scoped>\n",
              "    .dataframe tbody tr th:only-of-type {\n",
              "        vertical-align: middle;\n",
              "    }\n",
              "\n",
              "    .dataframe tbody tr th {\n",
              "        vertical-align: top;\n",
              "    }\n",
              "\n",
              "    .dataframe thead th {\n",
              "        text-align: right;\n",
              "    }\n",
              "</style>\n",
              "<table border=\"1\" class=\"dataframe\">\n",
              "  <thead>\n",
              "    <tr style=\"text-align: right;\">\n",
              "      <th></th>\n",
              "      <th>Date/Time</th>\n",
              "      <th>Lat</th>\n",
              "      <th>Lon</th>\n",
              "      <th>Base</th>\n",
              "    </tr>\n",
              "  </thead>\n",
              "  <tbody>\n",
              "    <tr>\n",
              "      <th>0</th>\n",
              "      <td>9/1/2014 0:01:00</td>\n",
              "      <td>40.2201</td>\n",
              "      <td>-74.0021</td>\n",
              "      <td>B02512</td>\n",
              "    </tr>\n",
              "    <tr>\n",
              "      <th>1</th>\n",
              "      <td>9/1/2014 0:01:00</td>\n",
              "      <td>40.7500</td>\n",
              "      <td>-74.0027</td>\n",
              "      <td>B02512</td>\n",
              "    </tr>\n",
              "    <tr>\n",
              "      <th>2</th>\n",
              "      <td>9/1/2014 0:03:00</td>\n",
              "      <td>40.7559</td>\n",
              "      <td>-73.9864</td>\n",
              "      <td>B02512</td>\n",
              "    </tr>\n",
              "    <tr>\n",
              "      <th>3</th>\n",
              "      <td>9/1/2014 0:06:00</td>\n",
              "      <td>40.7450</td>\n",
              "      <td>-73.9889</td>\n",
              "      <td>B02512</td>\n",
              "    </tr>\n",
              "    <tr>\n",
              "      <th>4</th>\n",
              "      <td>9/1/2014 0:11:00</td>\n",
              "      <td>40.8145</td>\n",
              "      <td>-73.9444</td>\n",
              "      <td>B02512</td>\n",
              "    </tr>\n",
              "  </tbody>\n",
              "</table>\n",
              "</div>"
            ],
            "text/plain": [
              "          Date/Time      Lat      Lon    Base\n",
              "0  9/1/2014 0:01:00  40.2201 -74.0021  B02512\n",
              "1  9/1/2014 0:01:00  40.7500 -74.0027  B02512\n",
              "2  9/1/2014 0:03:00  40.7559 -73.9864  B02512\n",
              "3  9/1/2014 0:06:00  40.7450 -73.9889  B02512\n",
              "4  9/1/2014 0:11:00  40.8145 -73.9444  B02512"
            ]
          },
          "metadata": {
            "tags": []
          },
          "execution_count": 3
        }
      ]
    },
    {
      "cell_type": "code",
      "metadata": {
        "colab": {
          "base_uri": "https://localhost:8080/",
          "height": 204
        },
        "id": "YNU1LhZONOND",
        "outputId": "883bc4d7-6394-44e0-d661-5b83af664f66"
      },
      "source": [
        "# Renomeando as colunas para deixar todas minúsculas\n",
        "df.rename(lambda x: str(x).lower(), axis=\"columns\", inplace=True)\n",
        "\n",
        "DATA_COLUMN = \"date/time\"\n",
        "DATA_URL = \"uber-raw-data-sep14.csv\"\n",
        "\n",
        "df.head()"
      ],
      "execution_count": 5,
      "outputs": [
        {
          "output_type": "execute_result",
          "data": {
            "text/html": [
              "<div>\n",
              "<style scoped>\n",
              "    .dataframe tbody tr th:only-of-type {\n",
              "        vertical-align: middle;\n",
              "    }\n",
              "\n",
              "    .dataframe tbody tr th {\n",
              "        vertical-align: top;\n",
              "    }\n",
              "\n",
              "    .dataframe thead th {\n",
              "        text-align: right;\n",
              "    }\n",
              "</style>\n",
              "<table border=\"1\" class=\"dataframe\">\n",
              "  <thead>\n",
              "    <tr style=\"text-align: right;\">\n",
              "      <th></th>\n",
              "      <th>date/time</th>\n",
              "      <th>lat</th>\n",
              "      <th>lon</th>\n",
              "      <th>base</th>\n",
              "    </tr>\n",
              "  </thead>\n",
              "  <tbody>\n",
              "    <tr>\n",
              "      <th>0</th>\n",
              "      <td>9/1/2014 0:01:00</td>\n",
              "      <td>40.2201</td>\n",
              "      <td>-74.0021</td>\n",
              "      <td>B02512</td>\n",
              "    </tr>\n",
              "    <tr>\n",
              "      <th>1</th>\n",
              "      <td>9/1/2014 0:01:00</td>\n",
              "      <td>40.7500</td>\n",
              "      <td>-74.0027</td>\n",
              "      <td>B02512</td>\n",
              "    </tr>\n",
              "    <tr>\n",
              "      <th>2</th>\n",
              "      <td>9/1/2014 0:03:00</td>\n",
              "      <td>40.7559</td>\n",
              "      <td>-73.9864</td>\n",
              "      <td>B02512</td>\n",
              "    </tr>\n",
              "    <tr>\n",
              "      <th>3</th>\n",
              "      <td>9/1/2014 0:06:00</td>\n",
              "      <td>40.7450</td>\n",
              "      <td>-73.9889</td>\n",
              "      <td>B02512</td>\n",
              "    </tr>\n",
              "    <tr>\n",
              "      <th>4</th>\n",
              "      <td>9/1/2014 0:11:00</td>\n",
              "      <td>40.8145</td>\n",
              "      <td>-73.9444</td>\n",
              "      <td>B02512</td>\n",
              "    </tr>\n",
              "  </tbody>\n",
              "</table>\n",
              "</div>"
            ],
            "text/plain": [
              "          date/time      lat      lon    base\n",
              "0  9/1/2014 0:01:00  40.2201 -74.0021  B02512\n",
              "1  9/1/2014 0:01:00  40.7500 -74.0027  B02512\n",
              "2  9/1/2014 0:03:00  40.7559 -73.9864  B02512\n",
              "3  9/1/2014 0:06:00  40.7450 -73.9889  B02512\n",
              "4  9/1/2014 0:11:00  40.8145 -73.9444  B02512"
            ]
          },
          "metadata": {
            "tags": []
          },
          "execution_count": 5
        }
      ]
    },
    {
      "cell_type": "code",
      "metadata": {
        "colab": {
          "base_uri": "https://localhost:8080/"
        },
        "id": "tpj1cm0aOZ-e",
        "outputId": "2e63aeeb-800b-4043-d9ac-3d577e5a2847"
      },
      "source": [
        "df.dtypes"
      ],
      "execution_count": 6,
      "outputs": [
        {
          "output_type": "execute_result",
          "data": {
            "text/plain": [
              "date/time     object\n",
              "lat          float64\n",
              "lon          float64\n",
              "base          object\n",
              "dtype: object"
            ]
          },
          "metadata": {
            "tags": []
          },
          "execution_count": 6
        }
      ]
    },
    {
      "cell_type": "code",
      "metadata": {
        "id": "s9aQMQtUPvtw"
      },
      "source": [
        "import numpy as np"
      ],
      "execution_count": 7,
      "outputs": []
    },
    {
      "cell_type": "code",
      "metadata": {
        "id": "HB3uux1NQKHV"
      },
      "source": [
        "df[\"date/time\"] = pd.to_datetime(df[\"date/time\"])"
      ],
      "execution_count": 9,
      "outputs": []
    },
    {
      "cell_type": "code",
      "metadata": {
        "colab": {
          "base_uri": "https://localhost:8080/",
          "height": 52
        },
        "id": "SFX7SwyDPx1C",
        "outputId": "ff534177-1116-47ef-d7f8-355da1b0d00d"
      },
      "source": [
        "# Criando um histograma só com as horas utilizando numpy\n",
        "np.histogram(df[\"date/time\"].dt.hour, bins=24, range=(0,24))[0]\n",
        "\n",
        "\"\"\"\n",
        "df['date/time'].dt.hour -> pega somente as horas de um obj. datetime\n",
        "\n",
        "\n",
        "bins -> qtd. de barras, como queremos só as horas e um dia tem 24 horas, escolhe\n",
        "        _mos bins = 24\n",
        "\n",
        "\n",
        "range -> para pegar os 24 valores das 24 barras\n",
        "\n",
        "[0] -> o resultado do código sem o [0] é uma tupla de arrays. O [0] indica que\n",
        "       queremos pegar o primeiro array da tupla.\n",
        "\"\"\""
      ],
      "execution_count": 11,
      "outputs": [
        {
          "output_type": "execute_result",
          "data": {
            "application/vnd.google.colaboratory.intrinsic+json": {
              "type": "string"
            },
            "text/plain": [
              "\"\\ndf['date/time'].dt.hour -> pega somente as horas de um obj. datetime\\n\\n\\nbins -> qtd. de barras, como queremos só as horas e um dia tem 24 horas, escolhe\\n        _mos bins = 24\\n\\n\\nrange -> para pegar os 24 valores das 24 barras\\n\\n[0] -> o resultado do código sem o [0] é uma tupla de arrays. O [0] indica que\\n       queremos pegar o primeiro array da tupla.\\n\""
            ]
          },
          "metadata": {
            "tags": []
          },
          "execution_count": 11
        }
      ]
    }
  ]
}